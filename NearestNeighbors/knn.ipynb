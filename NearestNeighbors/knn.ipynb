{
 "cells": [
  {
   "cell_type": "markdown",
   "metadata": {},
   "source": [
    "# Nearest Neighbors Example"
   ]
  },
  {
   "cell_type": "markdown",
   "metadata": {},
   "source": [
    "## Server's Data Setup\n",
    "The server owns coordinates to points of interest like restaurants and commerces. The coordinates are kept in a LookupTable"
   ]
  },
  {
   "cell_type": "code",
   "execution_count": 1,
   "metadata": {},
   "outputs": [
    {
     "name": "stderr",
     "output_type": "stream",
     "text": [
      "/home/riad/envs/zama/lib/python3.9/site-packages/tqdm/auto.py:21: TqdmWarning: IProgress not found. Please update jupyter and ipywidgets. See https://ipywidgets.readthedocs.io/en/stable/user_install.html\n",
      "  from .autonotebook import tqdm as notebook_tqdm\n"
     ]
    }
   ],
   "source": [
    "from concrete import fhe\n",
    "import numpy\n",
    "\n",
    "\n",
    "# Database of Points of Interests\n",
    "points_array = numpy.array([\n",
    "    [2, 3], [1, 5], [3, 2], [5, 2], [1, 1],\n",
    "    [9, 4], [13, 2], [14, 13], [9, 8], [8, 0],\n",
    "    [2, 10], [3, 8], [8, 12], [4, 10], [7, 7],\n",
    "])\n",
    "N_PTS = points_array.shape[0]\n",
    "points = fhe.LookupTable(points_array.flatten())\n",
    "\n",
    "\n",
    "def get_point(index):\n",
    "    return (points[2*index], points[2*index + 1])\n",
    "\n",
    "\n",
    "def all_distances(x, y):\n",
    "    xs = numpy.arange(0, 2 * N_PTS, 2)\n",
    "    ys = numpy.arange(1, 2 * N_PTS, 2)\n",
    "    a = abs(points[xs] - x)\n",
    "    b = abs(points[ys] - y)\n",
    "    return a + b"
   ]
  },
  {
   "cell_type": "markdown",
   "metadata": {},
   "source": [
    "We use swap sort to find the $K$ nearest points to a given point. However, we are interested in the indices of the elements, not just their distances. We must therefore work on tuples of index and distance, effectively implementing numpy argpartition."
   ]
  },
  {
   "cell_type": "code",
   "execution_count": 2,
   "metadata": {},
   "outputs": [],
   "source": [
    "# TLUs\n",
    "relu = fhe.univariate(lambda x: x if x > 0 else 0)\n",
    "is_positive = fhe.univariate(lambda x: 1 if x > 0 else 0)\n",
    "odd_halving = fhe.univariate(lambda x: (x-1)//2 if x % 2 else 0)  "
   ]
  },
  {
   "cell_type": "code",
   "execution_count": 3,
   "metadata": {},
   "outputs": [],
   "source": [
    "def swap(this_idx, this_dist, that_idx, that_dist):\n",
    "    \"\"\"\n",
    "    Swaps this and that if this > that. \n",
    "    We must pass both the index and the distance for both this and that.\n",
    "\n",
    "    Returns:\n",
    "      idxmin, min, idxmax, max of this and that based on distance\n",
    "    \"\"\"\n",
    "    diff = this_dist - that_dist\n",
    "    idx = odd_halving(2 * (this_idx - that_idx) + is_positive(diff))\n",
    "    dist = relu(diff)\n",
    "\n",
    "    idx_min = this_idx - idx\n",
    "    idx_max = that_idx + idx \n",
    "    dist_min = this_dist - dist\n",
    "    dist_max = that_dist + dist\n",
    "    return fhe.array([idx_min, dist_min, idx_max, dist_max])\n",
    "\n",
    "\n",
    "@fhe.compiler({\"x\": \"encrypted\", \"y\": \"encrypted\"})\n",
    "def knn(x, y):\n",
    "    dist = all_distances(x, y)\n",
    "    idx = list(range(N_PTS))\n",
    "    for k in range(2):\n",
    "        for i in range(k+1, N_PTS):\n",
    "             idx[k], dist[k], idx[i], dist[i] = swap(idx[k], dist[k], idx[i], dist[i])\n",
    "    return fhe.array([get_point(idx[j]) for j in range(2)])\n",
    "\n",
    "\n",
    "inputset = [(4, 3), (0, 0), (15, 3), (4, 15), (9, 4), (13, 2), (14, 13), (9, 8), (8, 0), (2, 10), (3, 8), (8, 12), (4, 10), (7, 7)]\n",
    "\n",
    "circuit = knn.compile(inputset)\n"
   ]
  },
  {
   "cell_type": "markdown",
   "metadata": {},
   "source": [
    "## Client\n",
    "The client simply invokes the server's nearest neighbors circuit."
   ]
  },
  {
   "cell_type": "code",
   "execution_count": 4,
   "metadata": {},
   "outputs": [
    {
     "name": "stdout",
     "output_type": "stream",
     "text": [
      "4.8 s ± 0 ns per loop (mean ± std. dev. of 1 run, 1 loop each)\n"
     ]
    }
   ],
   "source": [
    "%%timeit -r 1 -n 1\n",
    "circuit.client.keys.generate()"
   ]
  },
  {
   "cell_type": "code",
   "execution_count": 5,
   "metadata": {},
   "outputs": [],
   "source": [
    "def nearest(x, y):\n",
    "    ex, ey = circuit.encrypt(x, y)\n",
    "    res = circuit.run(ex, ey)   # Simulate request to the server\n",
    "    return circuit.decrypt(res)"
   ]
  },
  {
   "cell_type": "markdown",
   "metadata": {},
   "source": [
    "## Benchmarks"
   ]
  },
  {
   "cell_type": "code",
   "execution_count": 6,
   "metadata": {},
   "outputs": [
    {
     "name": "stdout",
     "output_type": "stream",
     "text": [
      "9.08 s ± 0 ns per loop (mean ± std. dev. of 1 run, 1 loop each)\n"
     ]
    }
   ],
   "source": [
    "%%timeit -r 1 -n 1\n",
    "nearest(4, 3)"
   ]
  },
  {
   "cell_type": "markdown",
   "metadata": {},
   "source": [
    "Note: Extended benchmark results can be found in README.MD"
   ]
  },
  {
   "cell_type": "markdown",
   "metadata": {},
   "source": [
    "## Unitary tests"
   ]
  },
  {
   "cell_type": "code",
   "execution_count": 7,
   "metadata": {},
   "outputs": [
    {
     "name": "stdout",
     "output_type": "stream",
     "text": [
      "Suppose we have two values, this = 50 and that = 20, the swap function should swap the values and the indexes:\n",
      "New index of this is 10\n",
      "New value of this is 20\n",
      "New index of that is 0\n",
      "New value of that is 50\n",
      "Now if we have , this = 5 and that = 20, the swap function should keep everything unchanged:\n",
      "New index of this is 0\n",
      "New value of this is 5\n",
      "New index of that is 10\n",
      "New value of that is 20\n"
     ]
    }
   ],
   "source": [
    "# unitary test of swap function\n",
    "print(\"Suppose we have two values, this = 50 and that = 20, the swap function should swap the values and the indexes:\")\n",
    "this_idx = 0\n",
    "this_dist = 50\n",
    "that_idx = 10\n",
    "that_dist = 20\n",
    "this_idx, this_dist, that_idx, that_dist = swap(this_idx, this_dist, that_idx, that_dist)\n",
    "\n",
    "print(f\"New index of this is {this_idx}\")\n",
    "print(f\"New value of this is {this_dist}\")\n",
    "\n",
    "print(f\"New index of that is {that_idx}\")\n",
    "print(f\"New value of that is {that_dist}\")\n",
    "\n",
    "\n",
    "\n",
    "print(\"Now if we have , this = 5 and that = 20, the swap function should keep everything unchanged:\")\n",
    "this_idx = 0\n",
    "this_dist = 5\n",
    "that_idx = 10\n",
    "that_dist = 20\n",
    "this_idx, this_dist, that_idx, that_dist = swap(this_idx, this_dist, that_idx, that_dist)\n",
    "\n",
    "print(f\"New index of this is {this_idx}\")\n",
    "print(f\"New value of this is {this_dist}\")\n",
    "\n",
    "print(f\"New index of that is {that_idx}\")\n",
    "print(f\"New value of that is {that_dist}\")"
   ]
  },
  {
   "cell_type": "code",
   "execution_count": 8,
   "metadata": {},
   "outputs": [
    {
     "data": {
      "image/png": "[encoded data removed]",
      "text/plain": [
       "<Figure size 640x480 with 1 Axes>"
      ]
     },
     "metadata": {},
     "output_type": "display_data"
    }
   ],
   "source": [
    "# unitary test of nearest function (which is indirectly testing knn function)\n",
    "import matplotlib.pyplot as plt\n",
    "\n",
    "\n",
    "x = [point[0] for point in points_array]\n",
    "y = [point[1] for point in points_array]\n",
    "\n",
    "\n",
    "first_location = [2, 1]\n",
    "closest_to_first_location = nearest(first_location[0], first_location[1])\n",
    "\n",
    "second_location = [8,8]\n",
    "closest_to_second_location= nearest(second_location[0], second_location[1])\n",
    "\n",
    "third_location = [12,13]\n",
    "closest_to_third_location= nearest(third_location[0], third_location[1])\n",
    "\n",
    "\n",
    "plt.scatter(x, y)\n",
    "\n",
    "\n",
    "plt.scatter(first_location[0], first_location[1], color='red', label='First location')\n",
    "plt.scatter(second_location[0], second_location[1], color='green', label='Second location')\n",
    "plt.scatter(third_location[0], third_location[1], color='yellow', label='Third location')\n",
    "\n",
    "for point in closest_to_first_location:\n",
    "    plt.scatter(point[0], point[1], marker='o', facecolor='none', edgecolor='red', s=200)\n",
    "\n",
    "for point in closest_to_second_location:\n",
    "    plt.scatter(point[0], point[1], marker='o', facecolor='none', edgecolor='green', s=200)\n",
    "\n",
    "for point in closest_to_third_location:\n",
    "    plt.scatter(point[0], point[1], marker='o', facecolor='none', edgecolor='yellow', s=200)\n",
    "\n",
    "\n",
    "\n",
    "plt.xlabel('X-axis')\n",
    "plt.ylabel('Y-axis')\n",
    "plt.title('Input points (colored) and their closest neighbors (circled)')\n",
    "plt.legend()\n",
    "\n",
    "plt.show()\n"
   ]
  },
  {
   "cell_type": "markdown",
   "metadata": {},
   "source": [
    "The two functions knn and nearest achieve the same objective. The only difference is that nearest adds input encryption and output decryption to simulate a client-server communication. The tests below show that their results are similar."
   ]
  },
  {
   "cell_type": "code",
   "execution_count": 9,
   "metadata": {},
   "outputs": [],
   "source": [
    "assert (knn(first_location[0], first_location[1]) == nearest(first_location[0], first_location[1])).all()\n",
    "assert (knn(second_location[0], second_location[1]) == nearest(second_location[0], second_location[1])).all()\n",
    "assert (knn(third_location[0], third_location[1]) == nearest(third_location[0], third_location[1])).all()"
   ]
  }
 ],
 "metadata": {
  "kernelspec": {
   "display_name": "zama",
   "language": "python",
   "name": "python3"
  },
  "language_info": {
   "codemirror_mode": {
    "name": "ipython",
    "version": 3
   },
   "file_extension": ".py",
   "mimetype": "text/x-python",
   "name": "python",
   "nbconvert_exporter": "python",
   "pygments_lexer": "ipython3",
   "version": "3.9.18"
  }
 },
 "nbformat": 4,
 "nbformat_minor": 4
}
