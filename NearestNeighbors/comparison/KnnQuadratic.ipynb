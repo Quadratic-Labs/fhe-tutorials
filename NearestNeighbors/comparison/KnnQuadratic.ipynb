{
 "cells": [
  {
   "cell_type": "code",
   "execution_count": 1,
   "metadata": {},
   "outputs": [
    {
     "name": "stderr",
     "output_type": "stream",
     "text": [
      "/home/riad/envs/zama/lib/python3.9/site-packages/tqdm/auto.py:21: TqdmWarning: IProgress not found. Please update jupyter and ipywidgets. See https://ipywidgets.readthedocs.io/en/stable/user_install.html\n",
      "  from .autonotebook import tqdm as notebook_tqdm\n"
     ]
    }
   ],
   "source": [
    "from concrete import fhe\n",
    "import time\n",
    "import numpy as np\n",
    "points_array = np.array([\n",
    "    [2, 3], [1, 5], [3, 2], [5, 2], [1, 1],\n",
    "    [9, 4], [13, 2], [14, 13], [9, 8], [8, 0],\n",
    "    [2, 10], [3, 8], [8, 12], [4, 10], [7, 7],\n",
    "])\n",
    "N_PTS = points_array.shape[0]\n",
    "points = fhe.LookupTable(points_array.flatten())\n",
    "n_neighbors = 3\n",
    "\n",
    "def get_point(index):\n",
    "    return (points[2*index], points[2*index + 1])\n",
    "\n",
    "\n",
    "def all_distances(x, y):\n",
    "    xs = np.arange(0, 2 * N_PTS, 2)\n",
    "    ys = np.arange(1, 2 * N_PTS, 2)\n",
    "    a = abs(points[xs] - x)\n",
    "    b = abs(points[ys] - y)\n",
    "    return a + b\n",
    "# TLUs\n",
    "relu = fhe.univariate(lambda x: x if x > 0 else 0)\n",
    "is_positive = fhe.univariate(lambda x: 1 if x > 0 else 0)\n",
    "odd_halving = fhe.univariate(lambda x: (x-1)//2 if x % 2 else 0)  \n",
    "\n",
    "def swap(this_idx, this_dist, that_idx, that_dist):\n",
    "    \"\"\"\n",
    "    Swaps this and that if this > that. \n",
    "    We must pass both the index and the distance for both this and that.\n",
    "\n",
    "    Returns:\n",
    "      idxmin, min, idxmax, max of this and that based on distance\n",
    "    \"\"\"\n",
    "    diff = this_dist - that_dist\n",
    "    idx = odd_halving((this_idx - that_idx) + (this_idx - that_idx) + is_positive(diff))\n",
    "    dist = relu(diff)\n",
    "\n",
    "    idx_min = this_idx - idx\n",
    "    idx_max = that_idx + idx \n",
    "    dist_min = this_dist - dist\n",
    "    dist_max = that_dist + dist\n",
    "    return fhe.array([idx_min, dist_min, idx_max, dist_max])\n",
    "\n",
    "\n",
    "@fhe.compiler({\"x\": \"encrypted\", \"y\": \"encrypted\"})\n",
    "def knn(x, y):\n",
    "    dist = all_distances(x, y)\n",
    "    idx = list(range(N_PTS))\n",
    "    for k in range(n_neighbors):\n",
    "        for i in range(k+1, N_PTS):\n",
    "             idx[k], dist[k], idx[i], dist[i] = swap(idx[k], dist[k], idx[i], dist[i])\n",
    "    return fhe.array([get_point(idx[j]) for j in range(n_neighbors)])\n",
    "\n"
   ]
  },
  {
   "cell_type": "code",
   "execution_count": 2,
   "metadata": {},
   "outputs": [
    {
     "name": "stdout",
     "output_type": "stream",
     "text": [
      "Compilation time: 7.41 seconds\n"
     ]
    }
   ],
   "source": [
    "inputset = [(4, 3), (0, 0), (15, 3), (4, 15), (9, 4), (13, 2), (14, 13), (9, 8), (8, 0), (2, 10), (3, 8), (8, 12), (4, 10), (7, 7)]\n",
    "time_begin = time.time()\n",
    "circuit = knn.compile(inputset)\n",
    "print(f\"Compilation time: {time.time() - time_begin:.2f} seconds\")"
   ]
  },
  {
   "cell_type": "code",
   "execution_count": 3,
   "metadata": {},
   "outputs": [
    {
     "name": "stdout",
     "output_type": "stream",
     "text": [
      "Maximum bit-width reached in the circuit: 6\n"
     ]
    }
   ],
   "source": [
    "print(f\"Maximum bit-width reached in the circuit: {circuit.graph.maximum_integer_bit_width()}\")"
   ]
  },
  {
   "cell_type": "code",
   "execution_count": 4,
   "metadata": {},
   "outputs": [
    {
     "name": "stdout",
     "output_type": "stream",
     "text": [
      "Key generation time: 8.71 seconds\n"
     ]
    }
   ],
   "source": [
    "time_begin = time.time()\n",
    "circuit.client.keygen()\n",
    "print(f\"Key generation time: {time.time() - time_begin:.2f} seconds\")"
   ]
  },
  {
   "cell_type": "code",
   "execution_count": 5,
   "metadata": {},
   "outputs": [],
   "source": [
    "x, y = 4, 3"
   ]
  },
  {
   "cell_type": "code",
   "execution_count": 6,
   "metadata": {},
   "outputs": [],
   "source": [
    "ex, ey = circuit.encrypt(x, y)"
   ]
  },
  {
   "cell_type": "code",
   "execution_count": 7,
   "metadata": {},
   "outputs": [
    {
     "name": "stdout",
     "output_type": "stream",
     "text": [
      "--- 17.16662859916687 seconds ---\n"
     ]
    }
   ],
   "source": [
    "start_time = time.time()\n",
    "result = circuit.server.run(ex, ey,  evaluation_keys=circuit.client.evaluation_keys)\n",
    "print(\"--- %s seconds ---\" % (time.time() - start_time))"
   ]
  },
  {
   "cell_type": "code",
   "execution_count": 8,
   "metadata": {},
   "outputs": [],
   "source": [
    "decrypted_res = circuit.decrypt(result)"
   ]
  },
  {
   "cell_type": "code",
   "execution_count": 9,
   "metadata": {},
   "outputs": [
    {
     "data": {
      "image/png": "[encoded data removed]",
      "text/plain": [
       "<Figure size 640x480 with 1 Axes>"
      ]
     },
     "metadata": {},
     "output_type": "display_data"
    }
   ],
   "source": [
    "import matplotlib.pyplot as plt\n",
    "\n",
    "\n",
    "xs = [point[0] for point in points_array]\n",
    "ys = [point[1] for point in points_array]\n",
    "\n",
    "\n",
    "plt.scatter(xs, ys)\n",
    "\n",
    "\n",
    "plt.scatter(x, y, color='red', label='First location')\n",
    "\n",
    "for point in decrypted_res:\n",
    "    plt.scatter(point[0], point[1], marker='o', facecolor='none', edgecolor='red', s=200)\n",
    "\n",
    "\n",
    "plt.xlabel('X-axis')\n",
    "plt.ylabel('Y-axis')\n",
    "plt.title('Input point (colored) and its closest neighbors (circled)')\n",
    "plt.legend()\n",
    "\n",
    "plt.show()\n"
   ]
  }
 ],
 "metadata": {
  "kernelspec": {
   "display_name": "zama",
   "language": "python",
   "name": "python3"
  },
  "language_info": {
   "codemirror_mode": {
    "name": "ipython",
    "version": 3
   },
   "file_extension": ".py",
   "mimetype": "text/x-python",
   "name": "python",
   "nbconvert_exporter": "python",
   "pygments_lexer": "ipython3",
   "version": "3.9.18"
  }
 },
 "nbformat": 4,
 "nbformat_minor": 4
}
