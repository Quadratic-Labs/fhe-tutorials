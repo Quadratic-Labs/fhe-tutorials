{
 "cells": [
  {
   "cell_type": "markdown",
   "id": "82e9d8b1",
   "metadata": {},
   "source": [
    "# Linear Regression using LinearSVR"
   ]
  },
  {
   "cell_type": "markdown",
   "id": "402b3337",
   "metadata": {},
   "source": [
    "In this notebook, we show how to create, train and evaluate a linearSVR regression model using Concrete-ML library, our open-source privacy-preserving machine learning framework based on fully homomorphic encryption (FHE).\n",
    "\n",
    "For the sake of simplicity, we will only consider a single explanatory variable, making it easy to plot its relationship with the target variable.  \n",
    "\n",
    "In order to identify the best set of hyperparameters for the linearSVR, we perform a grid search on the following : \n",
    "\n",
    "* $C$: (inverse) strength of the l2 penalization\n",
    "* $\\epsilon$: margin for the support vectors\n",
    "\n",
    "Please refer to Scikit-Learn documentation on [linearSVR](https://scikit-learn.org/stable/modules/generated/sklearn.svm.LinearSVR.html) for more details"
   ]
  },
  {
   "cell_type": "markdown",
   "id": "8f776973",
   "metadata": {},
   "source": [
    "## Import librairies"
   ]
  },
  {
   "cell_type": "code",
   "execution_count": 119,
   "id": "dc5cd31d",
   "metadata": {},
   "outputs": [],
   "source": [
    "import time\n",
    "\n",
    "import numpy as np\n",
    "\n",
    "from sklearn.datasets import make_regression\n",
    "from sklearn.svm import LinearSVR as SklearnLinearSVR\n",
    "from sklearn.metrics import r2_score\n",
    "from sklearn.model_selection import GridSearchCV, train_test_split\n",
    "from sklearn.metrics import make_scorer, mean_squared_error\n",
    "\n",
    "from concrete.ml.sklearn.svm import LinearSVR as ConcreteLinearSVR"
   ]
  },
  {
   "cell_type": "markdown",
   "id": "ad906125",
   "metadata": {},
   "source": [
    "And some helpers for visualization."
   ]
  },
  {
   "cell_type": "code",
   "execution_count": 82,
   "id": "123f740d",
   "metadata": {},
   "outputs": [],
   "source": [
    "%matplotlib inline\n",
    "\n",
    "import matplotlib.pyplot as plt\n",
    "from IPython.display import display\n",
    "\n",
    "train_plot_config = {\"c\": \"black\", \"marker\": \"D\", \"s\": 15, \"label\": \"Train data\"}\n",
    "test_plot_config = {\"c\": \"red\", \"marker\": \"x\", \"s\": 15, \"label\": \"Test data\"}\n",
    "\n",
    "def get_sklearn_plot_config(r2_score=None):\n",
    "    label = \"scikit-learn\"\n",
    "    if r2_score is not None:\n",
    "        label += f\", {'$R^2$'}={r2_score:.4f}\"\n",
    "    return {\"c\": \"blue\", \"linewidth\": 2.5, \"label\": label}\n",
    "\n",
    "def get_concrete_plot_config(r2_score=None):\n",
    "    label = \"Concrete-ML\"\n",
    "    if r2_score is not None:\n",
    "        label += f\", {'$R^2$'}={r2_score:.4f}\"\n",
    "    return {\"c\": \"orange\", \"linewidth\": 2.5, \"label\": label}\n"
   ]
  },
  {
   "cell_type": "markdown",
   "id": "250d74ae",
   "metadata": {},
   "source": [
    "## Generate a dataset"
   ]
  },
  {
   "cell_type": "code",
   "execution_count": 83,
   "id": "6852566a",
   "metadata": {},
   "outputs": [],
   "source": [
    "# pylint: disable=unbalanced-tuple-unpacking\n",
    "X, y = make_regression(\n",
    "    n_samples=200, n_features=1, n_targets=1, bias=5.0, noise=30.0, random_state=42\n",
    ")\n",
    "# pylint: enable=unbalanced-tuple-unpacking\n",
    "\n",
    "# We split the dataset into a training and a testing set\n",
    "X_train, X_test, y_train, y_test = train_test_split(X, y, test_size=0.4, random_state=42)\n",
    "\n",
    "# We sort the test set for a better visualization\n",
    "sorted_indexes = np.argsort(np.squeeze(X_test))\n",
    "X_test = X_test[sorted_indexes, :]\n",
    "y_test = y_test[sorted_indexes]"
   ]
  },
  {
   "cell_type": "markdown",
   "id": "abb6ee60",
   "metadata": {},
   "source": [
    "We display the dataset to visualize the data distribution."
   ]
  },
  {
   "cell_type": "code",
   "execution_count": 84,
   "id": "ed6befb8",
   "metadata": {},
   "outputs": [
    {
     "data": {
      "image/png": "[encoded data removed]",
      "text/plain": [
       "<Figure size 1000x500 with 1 Axes>"
      ]
     },
     "metadata": {},
     "output_type": "display_data"
    }
   ],
   "source": [
    "plt.ioff()\n",
    "\n",
    "plt.clf()\n",
    "fig, ax = plt.subplots(1, figsize=(10, 5))\n",
    "fig.patch.set_facecolor(\"white\")\n",
    "ax.scatter(X_train, y_train, **train_plot_config)\n",
    "ax.scatter(X_test, y_test, **test_plot_config)\n",
    "ax.legend()\n",
    "display(fig)"
   ]
  },
  {
   "cell_type": "markdown",
   "id": "7efdadb6",
   "metadata": {},
   "source": [
    "## Identify best set of hyperparameters"
   ]
  },
  {
   "cell_type": "markdown",
   "id": "153ea6ff",
   "metadata": {},
   "source": [
    "###  Sklearn LinearSVR"
   ]
  },
  {
   "cell_type": "markdown",
   "id": "9d7095d8",
   "metadata": {},
   "source": [
    "Create scorer with the [Mean Squared Error](https://scikit-learn.org/stable/modules/generated/sklearn.metrics.mean_squared_error.html)"
   ]
  },
  {
   "cell_type": "code",
   "execution_count": 85,
   "id": "292661ba",
   "metadata": {},
   "outputs": [],
   "source": [
    "grid_scorer = make_scorer(mean_squared_error, greater_is_better=False)"
   ]
  },
  {
   "cell_type": "markdown",
   "id": "cb7964d4",
   "metadata": {},
   "source": [
    "We train the scikit-learn LinearSVR model on clear data.\n",
    "\n",
    "We use a parameter grid with several values for $\\epsilon$ and $C$. "
   ]
  },
  {
   "cell_type": "code",
   "execution_count": 86,
   "id": "b7e9c686",
   "metadata": {},
   "outputs": [
    {
     "name": "stdout",
     "output_type": "stream",
     "text": [
      "Fitting 5 folds for each of 9 candidates, totalling 45 fits\n"
     ]
    }
   ],
   "source": [
    "param_grid = {\n",
    "    \"epsilon\": [0.0, 1.0, 10.0],\n",
    "    \"C\": [0.1, 1.0, 10.0],\n",
    "}\n",
    "\n",
    "sklearn_rgs = SklearnLinearSVR()\n",
    "\n",
    "gs_sklearn = GridSearchCV(\n",
    "    sklearn_rgs,\n",
    "    param_grid,\n",
    "    cv=5,\n",
    "    scoring=grid_scorer,\n",
    "    verbose=1,\n",
    ").fit(X_train, y_train)"
   ]
  },
  {
   "cell_type": "markdown",
   "id": "e0a075e8",
   "metadata": {},
   "source": [
    "###  Concrete-ML quantized linearSVR"
   ]
  },
  {
   "cell_type": "markdown",
   "id": "8b3450e2",
   "metadata": {},
   "source": [
    "The typical development flow of a Concrete-ML model is the following:\n",
    "\n",
    "* The model is trained on clear (plaintext) data as only FHE inference is currently supported\n",
    "* The resulting trained model is quantized using a `n_bits` parameter set by the user. This parameter can either be:\n",
    "    1. a dictionary composed of `op_inputs` and `op_weights` keys. These parameters are given as integers representing the number of bits over which the associated data should be quantized.\n",
    "    2. an integer, representing the number of bits over which each input and weight should be quantized. Default is 8.\n",
    "* The quantized model is compiled to a FHE equivalent following 3 steps:\n",
    "    1. create an executable operation graph\n",
    "    2. check that the op-graph is FHE compatible by checking the maximum bit-width needed to execute the model\n",
    "    3. determine cryptographic parameters that will help to generate the secret keys and evaluation keys. If no parameters can be found, the compilation process can't be completed and an error is thrown. The user then can either lower the value(s) chosen for `n_bits` or decrease the number of features found in the data set (using techniques such as PCA) and run the development flow once again.\n",
    "* Inference can then be done on encrypted data (using `execute_in_fhe=True` when calling `.predict()` method)\n",
    "\n"
   ]
  },
  {
   "cell_type": "markdown",
   "id": "cb18e789",
   "metadata": {},
   "source": [
    "We use the same grid of parameter values. We set the number of bits to 6 (see explanation below). "
   ]
  },
  {
   "cell_type": "code",
   "execution_count": 92,
   "id": "59046f10",
   "metadata": {},
   "outputs": [
    {
     "name": "stdout",
     "output_type": "stream",
     "text": [
      "Fitting 5 folds for each of 9 candidates, totalling 45 fits\n"
     ]
    }
   ],
   "source": [
    "param_grid = {\n",
    "    \"n_bits\": [6],\n",
    "    \"epsilon\": [0.0, 1.0, 10.0],\n",
    "    \"C\": [0.1, 1.0, 10.0],\n",
    "}\n",
    "\n",
    "concrete_rgs = ConcreteLinearSVR()\n",
    "\n",
    "gs_concrete = GridSearchCV(\n",
    "    concrete_rgs,\n",
    "    param_grid,\n",
    "    cv=5,\n",
    "    scoring=grid_scorer,\n",
    "    verbose=1,\n",
    ").fit(X_train, y_train)"
   ]
  },
  {
   "cell_type": "markdown",
   "id": "0e51b63a",
   "metadata": {},
   "source": [
    "### Compare Sklearn and Concrete-ML Quantized best models"
   ]
  },
  {
   "cell_type": "markdown",
   "id": "8cde0fe6",
   "metadata": {},
   "source": [
    "#### Performance"
   ]
  },
  {
   "cell_type": "code",
   "execution_count": 93,
   "id": "1d0577a1",
   "metadata": {
    "scrolled": true
   },
   "outputs": [
    {
     "name": "stdout",
     "output_type": "stream",
     "text": [
      "Mean time fit sklearn: 0.001s, std time fit sklearn: 0.000s\n",
      "Mean time fit concrete: 0.151s,std time fit concrete: 0.007s\n",
      "Best MSE score sklearn: 944.02\n",
      "Best MSE score concrete: 936.30\n"
     ]
    }
   ],
   "source": [
    "# Print mean time fit and std time fit for both models\n",
    "print(\n",
    "    f\"Mean time fit sklearn: {np.mean(gs_sklearn.cv_results_['mean_fit_time']):.3f}s,\"\n",
    "    f\" std time fit sklearn: {np.std(gs_sklearn.cv_results_['mean_fit_time']):.3f}s\"\n",
    ")\n",
    "print(\n",
    "    f\"Mean time fit concrete: {np.mean(gs_concrete.cv_results_['mean_fit_time']):.3f}s,\"\n",
    "    f\"std time fit concrete: {np.std(gs_concrete.cv_results_['mean_fit_time']):.3f}s\"\n",
    ")\n",
    "\n",
    "# Print best score for both models\n",
    "print(f\"Best MSE score sklearn: {-gs_sklearn.best_score_:.2f}\")\n",
    "print(f\"Best MSE score concrete: {-gs_concrete.best_score_:.2f}\")"
   ]
  },
  {
   "cell_type": "markdown",
   "id": "09aa3989",
   "metadata": {},
   "source": [
    "#### Hyperparameters"
   ]
  },
  {
   "cell_type": "code",
   "execution_count": 35,
   "id": "bc2ca27a",
   "metadata": {},
   "outputs": [
    {
     "name": "stdout",
     "output_type": "stream",
     "text": [
      "Best parameters for Concrete: {'C': 10.0, 'epsilon': 1.0, 'n_bits': 6}\n",
      "Best parameters for Sklearn: {'C': 10.0, 'epsilon': 1.0}\n"
     ]
    }
   ],
   "source": [
    "# Get best hyper parameters out of gs_concrete\n",
    "best_params_concrete = gs_concrete.best_params_\n",
    "print(f\"Best parameters for Concrete: {best_params_concrete}\")\n",
    "best_params_sklearn = gs_sklearn.best_params_\n",
    "print(f\"Best parameters for Sklearn: {best_params_sklearn}\")"
   ]
  },
  {
   "cell_type": "markdown",
   "id": "900f500c",
   "metadata": {},
   "source": [
    "### Train with best hyperparameter set on the complete training dataset"
   ]
  },
  {
   "cell_type": "code",
   "execution_count": 94,
   "id": "ba940a03",
   "metadata": {},
   "outputs": [
    {
     "data": {
      "text/html": [
       "<style>#sk-container-id-3 {color: black;background-color: white;}#sk-container-id-3 pre{padding: 0;}#sk-container-id-3 div.sk-toggleable {background-color: white;}#sk-container-id-3 label.sk-toggleable__label {cursor: pointer;display: block;width: 100%;margin-bottom: 0;padding: 0.3em;box-sizing: border-box;text-align: center;}#sk-container-id-3 label.sk-toggleable__label-arrow:before {content: \"▸\";float: left;margin-right: 0.25em;color: #696969;}#sk-container-id-3 label.sk-toggleable__label-arrow:hover:before {color: black;}#sk-container-id-3 div.sk-estimator:hover label.sk-toggleable__label-arrow:before {color: black;}#sk-container-id-3 div.sk-toggleable__content {max-height: 0;max-width: 0;overflow: hidden;text-align: left;background-color: #f0f8ff;}#sk-container-id-3 div.sk-toggleable__content pre {margin: 0.2em;color: black;border-radius: 0.25em;background-color: #f0f8ff;}#sk-container-id-3 input.sk-toggleable__control:checked~div.sk-toggleable__content {max-height: 200px;max-width: 100%;overflow: auto;}#sk-container-id-3 input.sk-toggleable__control:checked~label.sk-toggleable__label-arrow:before {content: \"▾\";}#sk-container-id-3 div.sk-estimator input.sk-toggleable__control:checked~label.sk-toggleable__label {background-color: #d4ebff;}#sk-container-id-3 div.sk-label input.sk-toggleable__control:checked~label.sk-toggleable__label {background-color: #d4ebff;}#sk-container-id-3 input.sk-hidden--visually {border: 0;clip: rect(1px 1px 1px 1px);clip: rect(1px, 1px, 1px, 1px);height: 1px;margin: -1px;overflow: hidden;padding: 0;position: absolute;width: 1px;}#sk-container-id-3 div.sk-estimator {font-family: monospace;background-color: #f0f8ff;border: 1px dotted black;border-radius: 0.25em;box-sizing: border-box;margin-bottom: 0.5em;}#sk-container-id-3 div.sk-estimator:hover {background-color: #d4ebff;}#sk-container-id-3 div.sk-parallel-item::after {content: \"\";width: 100%;border-bottom: 1px solid gray;flex-grow: 1;}#sk-container-id-3 div.sk-label:hover label.sk-toggleable__label {background-color: #d4ebff;}#sk-container-id-3 div.sk-serial::before {content: \"\";position: absolute;border-left: 1px solid gray;box-sizing: border-box;top: 0;bottom: 0;left: 50%;z-index: 0;}#sk-container-id-3 div.sk-serial {display: flex;flex-direction: column;align-items: center;background-color: white;padding-right: 0.2em;padding-left: 0.2em;position: relative;}#sk-container-id-3 div.sk-item {position: relative;z-index: 1;}#sk-container-id-3 div.sk-parallel {display: flex;align-items: stretch;justify-content: center;background-color: white;position: relative;}#sk-container-id-3 div.sk-item::before, #sk-container-id-3 div.sk-parallel-item::before {content: \"\";position: absolute;border-left: 1px solid gray;box-sizing: border-box;top: 0;bottom: 0;left: 50%;z-index: -1;}#sk-container-id-3 div.sk-parallel-item {display: flex;flex-direction: column;z-index: 1;position: relative;background-color: white;}#sk-container-id-3 div.sk-parallel-item:first-child::after {align-self: flex-end;width: 50%;}#sk-container-id-3 div.sk-parallel-item:last-child::after {align-self: flex-start;width: 50%;}#sk-container-id-3 div.sk-parallel-item:only-child::after {width: 0;}#sk-container-id-3 div.sk-dashed-wrapped {border: 1px dashed gray;margin: 0 0.4em 0.5em 0.4em;box-sizing: border-box;padding-bottom: 0.4em;background-color: white;}#sk-container-id-3 div.sk-label label {font-family: monospace;font-weight: bold;display: inline-block;line-height: 1.2em;}#sk-container-id-3 div.sk-label-container {text-align: center;}#sk-container-id-3 div.sk-container {/* jupyter's `normalize.less` sets `[hidden] { display: none; }` but bootstrap.min.css set `[hidden] { display: none !important; }` so we also need the `!important` here to be able to override the default hidden behavior on the sphinx rendered scikit-learn.org. See: https://github.com/scikit-learn/scikit-learn/issues/21755 */display: inline-block !important;position: relative;}#sk-container-id-3 div.sk-text-repr-fallback {display: none;}</style><div id=\"sk-container-id-3\" class=\"sk-top-container\"><div class=\"sk-text-repr-fallback\"><pre>LinearSVR(C=10.0, epsilon=1.0)</pre><b>In a Jupyter environment, please rerun this cell to show the HTML representation or trust the notebook. <br />On GitHub, the HTML representation is unable to render, please try loading this page with nbviewer.org.</b></div><div class=\"sk-container\" hidden><div class=\"sk-item\"><div class=\"sk-estimator sk-toggleable\"><input class=\"sk-toggleable__control sk-hidden--visually\" id=\"sk-estimator-id-3\" type=\"checkbox\" checked><label for=\"sk-estimator-id-3\" class=\"sk-toggleable__label sk-toggleable__label-arrow\">LinearSVR</label><div class=\"sk-toggleable__content\"><pre>LinearSVR(C=10.0, epsilon=1.0)</pre></div></div></div></div></div>"
      ],
      "text/plain": [
       "LinearSVR(C=10.0, epsilon=1.0)"
      ]
     },
     "execution_count": 94,
     "metadata": {},
     "output_type": "execute_result"
    }
   ],
   "source": [
    "# Train concrete and sklearn LinearSVR  with best hyper parameters\n",
    "concrete_rgs = ConcreteLinearSVR(**best_params_concrete)\n",
    "sklearn_rgs = SklearnLinearSVR(**best_params_sklearn)\n",
    "\n",
    "concrete_rgs.fit(X_train, y_train)\n",
    "sklearn_rgs.fit(X_train, y_train)"
   ]
  },
  {
   "cell_type": "markdown",
   "id": "3714582c",
   "metadata": {},
   "source": [
    "## Concrete-ML Quantized linearSVR with FHE"
   ]
  },
  {
   "cell_type": "markdown",
   "id": "b79b2d76",
   "metadata": {},
   "source": [
    "### Prerequisite"
   ]
  },
  {
   "cell_type": "markdown",
   "id": "d07a5397",
   "metadata": {},
   "source": [
    "Some prerequisites should be reviewed before deep diving !\n",
    "\n",
    "Quantization is a technique that converts continuous data (floating point, e.g., in 32-bits) to discrete numbers within a fixed range (e.g. integer in 8-bits). This means that some information is lost during the process. However, the larger is the integers' range, the smaller the error becomes, making it acceptable to some cases.\n",
    "\n",
    "To learn more about quantization, please refer to this [page](https://docs.zama.ai/concrete-ml/advanced-topics/quantization).\n",
    "\n",
    "Regarding FHE, the input data type must be represented exclusively as integers, making the use of quantization necessary. Therefore, a linear model trained on floats is quantized into an equivalent integer model using *Post-Training Quantization*. This operation can lead to a loss of accuracy compared to the standard floating point models working on clear data.\n",
    "\n",
    "In practice however, this loss is usually very limited with linear FHE models as they can consider very large integers, with up to 50 bits in some cases. This means these models can quantize their inputs and weights over large number of bits (e.g. 16) while still considering data sets containing many features (e.g. 1000). We therefore often observe almost identical performance scores (e.g. R2 score) between float, quantized and FHE models.\n",
    "\n",
    "To learn more about the relation between the maximum bit-width reached within a model, the bits of quantization used and the dataset's number of features, please refer to this [page](https://docs.zama.ai/concrete-ml/advanced-topics/pruning)."
   ]
  },
  {
   "cell_type": "markdown",
   "id": "7fa3164d",
   "metadata": {},
   "source": [
    "### Compilation"
   ]
  },
  {
   "cell_type": "markdown",
   "id": "7d12f8fd",
   "metadata": {},
   "source": [
    "To perform homomorphic inference, we take the above trained quantized model and we compile it to get a FHE model.\n",
    "\n",
    "The compiler requires an exhaustive set of data to evaluate the maximum integer bit-width within the graph, which is needed during the FHE computations before running any predictions.\n",
    "\n",
    "The user can either provide the entire train dataset or a smaller but representative subset of it."
   ]
  },
  {
   "cell_type": "code",
   "execution_count": 95,
   "id": "e19fbae2",
   "metadata": {},
   "outputs": [],
   "source": [
    "# Compile the model using the training data\n",
    "circuit = concrete_rgs.compile(X_train)"
   ]
  },
  {
   "cell_type": "markdown",
   "id": "bba0f654",
   "metadata": {},
   "source": [
    "### Generate the key"
   ]
  },
  {
   "cell_type": "markdown",
   "id": "f9d3dee0",
   "metadata": {},
   "source": [
    "The compiler returns a circuit, which can then be used for key generation and predictions. More precisely, it generates:\n",
    "\n",
    "* a Secret Key, used for the encryption and decryption processes. This key should remain accessible only to the user.\n",
    "* an Evaluation Key, used to evaluate the circuit on encrypted data. Anyone could access this key without breaching the model's security.\n"
   ]
  },
  {
   "cell_type": "code",
   "execution_count": 96,
   "id": "309b226f",
   "metadata": {},
   "outputs": [
    {
     "name": "stdout",
     "output_type": "stream",
     "text": [
      "Generating a key for an 6-bit circuit\n"
     ]
    }
   ],
   "source": [
    "# Generate the key\n",
    "print(f\"Generating a key for an {circuit.graph.maximum_integer_bit_width()}-bit circuit\")"
   ]
  },
  {
   "cell_type": "code",
   "execution_count": 97,
   "id": "785f4ac5",
   "metadata": {},
   "outputs": [
    {
     "name": "stdout",
     "output_type": "stream",
     "text": [
      "Key generation time: 117.71 seconds\n"
     ]
    }
   ],
   "source": [
    "time_begin = time.time()\n",
    "circuit.client.keygen(force=False)\n",
    "print(f\"Key generation time: {time.time() - time_begin:.2f} seconds\")"
   ]
  },
  {
   "cell_type": "markdown",
   "id": "cf62d77c",
   "metadata": {},
   "source": [
    "### Now let's predict using the FHE model on encrypted data"
   ]
  },
  {
   "cell_type": "markdown",
   "id": "bb1b8e4f",
   "metadata": {},
   "source": [
    "Please, notice the `execute_in_fhe=True` that makes the job under the hood: before the data is sent to be applied to the model, it is encrypted with the client secret key generated above. \n",
    "\n",
    "As for future comparison bellow, we also predict on the very same data on both:\n",
    "* the Sklearn model,\n",
    "* the Concrete-ML quantized model without FHE. "
   ]
  },
  {
   "cell_type": "code",
   "execution_count": 98,
   "id": "6c842f67",
   "metadata": {},
   "outputs": [
    {
     "name": "stdout",
     "output_type": "stream",
     "text": [
      "Execution time: 15.1017 seconds per sample\n",
      "Execution time: 0.0001 seconds per sample\n",
      "Execution time: 0.0004 seconds per sample\n"
     ]
    }
   ],
   "source": [
    "# Now predict using the FHE-quantized model on the testing set\n",
    "time_begin = time.time()\n",
    "y_pred_fhe = concrete_rgs.predict(X_test, execute_in_fhe=True)\n",
    "print(f\"Execution time: {(time.time() - time_begin) / len(X_test):.4f} seconds per sample\")\n",
    "\n",
    "# Now predict using the Sklearn model on the testing set\n",
    "time_begin = time.time()\n",
    "y_pred_sklearn = sklearn_rgs.predict(X_test)\n",
    "print(f\"Execution time: {(time.time() - time_begin) / len(X_test):.4f} seconds per sample\")\n",
    "\n",
    "# Now predict using clear quantized Concrete-ML model on testing set\n",
    "time_begin = time.time()\n",
    "y_preds_quantized = concrete_rgs.predict(X_test)\n",
    "print(f\"Execution time: {(time.time() - time_begin) / len(X_test):.4f} seconds per sample\")\n"
   ]
  },
  {
   "cell_type": "markdown",
   "id": "aad88c4b",
   "metadata": {},
   "source": [
    "## Compare"
   ]
  },
  {
   "cell_type": "markdown",
   "id": "e5b996f3",
   "metadata": {},
   "source": [
    "### Display performance spreads"
   ]
  },
  {
   "cell_type": "code",
   "execution_count": 104,
   "id": "d725e8ee",
   "metadata": {},
   "outputs": [
    {
     "name": "stdout",
     "output_type": "stream",
     "text": [
      "Clear FP32 sklearn model MSE: 939.063\n",
      "Clear quantized model MSE: 992.598\n",
      "FHE model MSE: 992.598\n",
      "\n",
      "Relative difference between Concrete-ml (quantized clear) and Concrete-ml (FHE) scores: 0.00%\n",
      "Relative difference between scikit-learn (clear) and Concrete-ml (FHE) scores: 5.70%\n"
     ]
    }
   ],
   "source": [
    "# Print all MSE a string to explain\n",
    "from sklearn.metrics import accuracy_score\n",
    "\n",
    "mse_sklearn = mean_squared_error(y_test, y_pred_sklearn)\n",
    "mse_clear = mean_squared_error(y_test, y_preds_quantized)\n",
    "mse_fhe = mean_squared_error(y_test, y_pred_fhe)\n",
    "\n",
    "print(\n",
    "    f\"Clear FP32 sklearn model MSE: {mse_sklearn:.3f}\\n\"\n",
    "    f\"Clear quantized model MSE: {mse_clear:.3f}\\n\"\n",
    "    f\"FHE model MSE: {mse_fhe:.3f}\"\n",
    ")\n",
    "\n",
    "# Measure the error of the FHE quantized model with respect to quantized clear Concrete-ML model\n",
    "concrete_score_difference = abs(mse_fhe - mse_clear) * 100 / mse_clear\n",
    "print(\n",
    "    \"\\nRelative difference between Concrete-ml (quantized clear) and Concrete-ml (FHE) scores:\",\n",
    "    f\"{concrete_score_difference:.2f}%\",\n",
    ")\n",
    "\n",
    "\n",
    "# Measure the error of the FHE quantized model with respect to the sklearn float model\n",
    "score_difference = abs(mse_fhe - mse_sklearn) * 100 / mse_sklearn\n",
    "print(\n",
    "    \"Relative difference between scikit-learn (clear) and Concrete-ml (FHE) scores:\",\n",
    "    f\"{score_difference:.2f}%\",\n",
    ")"
   ]
  },
  {
   "cell_type": "markdown",
   "id": "1dab670d",
   "metadata": {},
   "source": [
    "We can observe that scikit-learn and Concrete-ML models output very close scores. This demonstrate how the quantization process has a very limited impact on performances.\n",
    "\n",
    "As for the spread in performance between Concrete-ml (FHE) and scikit-learn, there are also quote to one another. \n",
    "* On the below graph, we see that test dataset has points for which `X` values are outside the range of training dataset. Since, when we compiled the quantized model we used `X_train`, then those `X` values in the test dataset outside the range of what is seen in `X_train`, then the decision rule poorly generalize on those values outside the boundaries observed on `X_tain`\n",
    "* Moreover, keep in mind that the current notebook has been voluntarily performed with `n_bits = 6` whereas the default value is 8. Running the current notebook with a `n_bits > 6` will lead to a significant performance improvment and will close the performance gap with scikit-learn.  "
   ]
  },
  {
   "cell_type": "markdown",
   "id": "9a65a270",
   "metadata": {},
   "source": [
    "### Visualize decision rule"
   ]
  },
  {
   "cell_type": "code",
   "execution_count": 105,
   "id": "1f233390",
   "metadata": {},
   "outputs": [],
   "source": [
    "# We densify the space representation of the original X,\n",
    "# to better visualize the resulting step function in the following figure\n",
    "x_space = np.linspace(X_test.min(), X_test.max(), num=300)\n",
    "x_space = x_space[:, np.newaxis]\n",
    "y_pred_q_space = concrete_rgs.predict(x_space)"
   ]
  },
  {
   "cell_type": "code",
   "execution_count": 106,
   "id": "5dd358d4",
   "metadata": {},
   "outputs": [
    {
     "data": {
      "image/png": "[encoded data removed]",
      "text/plain": [
       "<Figure size 1200x800 with 1 Axes>"
      ]
     },
     "metadata": {},
     "output_type": "display_data"
    }
   ],
   "source": [
    "plt.ioff()\n",
    "\n",
    "plt.clf()\n",
    "fig, ax = plt.subplots(1, figsize=(12, 8))\n",
    "fig.patch.set_facecolor(\"white\")\n",
    "ax.scatter(X_train, y_train, **train_plot_config)\n",
    "ax.scatter(X_test, y_test, **test_plot_config)\n",
    "ax.plot(X_test, y_pred_sklearn, **get_sklearn_plot_config(mse_sklearn))\n",
    "ax.plot(x_space, y_pred_q_space, **get_concrete_plot_config(mse_clear))\n",
    "ax.legend()\n",
    "display(fig)"
   ]
  },
  {
   "cell_type": "markdown",
   "id": "3bddb3fd",
   "metadata": {},
   "source": [
    "## Conclusion"
   ]
  },
  {
   "cell_type": "markdown",
   "id": "1bdaa448",
   "metadata": {},
   "source": [
    "In this tutorial, we have shown how easy it is to train and execute a linear regression model in FHE using Concrete-ML.\n",
    "\n",
    "We have also discussed the development flow of a FHE model: training, quantization, compilation and inference.\n",
    "\n",
    "The slight decrease in prediction quality is due to the quantization of the model's weights and input data, which makes the model poorly generalize outside of its training domain. However, this decrease remains negligible as both floating point (scikit-learn) and FHE (Concrete-ML) models give almost identical MSE scores."
   ]
  },
  {
   "cell_type": "code",
   "execution_count": 120,
   "id": "cf1e95be",
   "metadata": {},
   "outputs": [],
   "source": [
    "from sklearn import datasets"
   ]
  },
  {
   "cell_type": "code",
   "execution_count": 124,
   "id": "c08ebb8a",
   "metadata": {},
   "outputs": [],
   "source": [
    "# Load the diabetes dataset\n",
    "diabetes_X, diabetes_y = datasets.load_diabetes(return_X_y=True)\n",
    "# Use only one feature\n",
    "diabetes_X = diabetes_X[:, np.newaxis, 2]\n",
    "# We split the dataset into a training and a testing set\n",
    "diabetes_X_train, diabetes_X_test, diabetes_y_train, diabetes_y_test = train_test_split(diabetes_X, diabetes_y, test_size=0.4, random_state=42)"
   ]
  },
  {
   "cell_type": "code",
   "execution_count": 125,
   "id": "85159f1b",
   "metadata": {},
   "outputs": [
    {
     "name": "stdout",
     "output_type": "stream",
     "text": [
      "Fitting 5 folds for each of 9 candidates, totalling 45 fits\n"
     ]
    }
   ],
   "source": [
    "param_grid = {\n",
    "    \"epsilon\": [0.0, 1.0, 10.0],\n",
    "    \"C\": [0.1, 1.0, 10.0],\n",
    "}\n",
    "\n",
    "sklearn_rgs = SklearnLinearSVR()\n",
    "\n",
    "gs_sklearn = GridSearchCV(\n",
    "    sklearn_rgs,\n",
    "    param_grid,\n",
    "    cv=5,\n",
    "    scoring=grid_scorer,\n",
    "    verbose=1,\n",
    ").fit(diabetes_X_train, diabetes_y_train)"
   ]
  },
  {
   "cell_type": "code",
   "execution_count": 126,
   "id": "d314d9e7",
   "metadata": {},
   "outputs": [
    {
     "name": "stdout",
     "output_type": "stream",
     "text": [
      "Fitting 5 folds for each of 9 candidates, totalling 45 fits\n"
     ]
    }
   ],
   "source": [
    "param_grid = {\n",
    "    \"n_bits\": [6],\n",
    "    \"epsilon\": [0.0, 1.0, 10.0],\n",
    "    \"C\": [0.1, 1.0, 10.0],\n",
    "}\n",
    "\n",
    "concrete_rgs = ConcreteLinearSVR()\n",
    "\n",
    "gs_concrete = GridSearchCV(\n",
    "    concrete_rgs,\n",
    "    param_grid,\n",
    "    cv=5,\n",
    "    scoring=grid_scorer,\n",
    "    verbose=1,\n",
    ").fit(diabetes_X_train, diabetes_y_train)"
   ]
  },
  {
   "cell_type": "code",
   "execution_count": 128,
   "id": "e331a055",
   "metadata": {},
   "outputs": [
    {
     "name": "stdout",
     "output_type": "stream",
     "text": [
      "Mean time fit sklearn: 0.001s, std time fit sklearn: 0.001s\n",
      "Mean time fit concrete: 0.174s,std time fit concrete: 0.021s\n",
      "Best MSE score sklearn: 6142.22\n",
      "Best MSE score concrete: 6146.51\n"
     ]
    }
   ],
   "source": [
    "# Print mean time fit and std time fit for both models\n",
    "print(\n",
    "    f\"Mean time fit sklearn: {np.mean(gs_sklearn.cv_results_['mean_fit_time']):.3f}s,\"\n",
    "    f\" std time fit sklearn: {np.std(gs_sklearn.cv_results_['mean_fit_time']):.3f}s\"\n",
    ")\n",
    "print(\n",
    "    f\"Mean time fit concrete: {np.mean(gs_concrete.cv_results_['mean_fit_time']):.3f}s,\"\n",
    "    f\"std time fit concrete: {np.std(gs_concrete.cv_results_['mean_fit_time']):.3f}s\"\n",
    ")\n",
    "\n",
    "# Print best score for both models\n",
    "print(f\"Best MSE score sklearn: {-gs_sklearn.best_score_:.2f}\")\n",
    "print(f\"Best MSE score concrete: {-gs_concrete.best_score_:.2f}\")"
   ]
  },
  {
   "cell_type": "code",
   "execution_count": 127,
   "id": "5a0bbdd8",
   "metadata": {},
   "outputs": [
    {
     "name": "stdout",
     "output_type": "stream",
     "text": [
      "Best parameters for Concrete: {'C': 10.0, 'epsilon': 0.0, 'n_bits': 6}\n",
      "Best parameters for Sklearn: {'C': 10.0, 'epsilon': 1.0}\n"
     ]
    },
    {
     "data": {
      "text/html": [
       "<style>#sk-container-id-5 {color: black;background-color: white;}#sk-container-id-5 pre{padding: 0;}#sk-container-id-5 div.sk-toggleable {background-color: white;}#sk-container-id-5 label.sk-toggleable__label {cursor: pointer;display: block;width: 100%;margin-bottom: 0;padding: 0.3em;box-sizing: border-box;text-align: center;}#sk-container-id-5 label.sk-toggleable__label-arrow:before {content: \"▸\";float: left;margin-right: 0.25em;color: #696969;}#sk-container-id-5 label.sk-toggleable__label-arrow:hover:before {color: black;}#sk-container-id-5 div.sk-estimator:hover label.sk-toggleable__label-arrow:before {color: black;}#sk-container-id-5 div.sk-toggleable__content {max-height: 0;max-width: 0;overflow: hidden;text-align: left;background-color: #f0f8ff;}#sk-container-id-5 div.sk-toggleable__content pre {margin: 0.2em;color: black;border-radius: 0.25em;background-color: #f0f8ff;}#sk-container-id-5 input.sk-toggleable__control:checked~div.sk-toggleable__content {max-height: 200px;max-width: 100%;overflow: auto;}#sk-container-id-5 input.sk-toggleable__control:checked~label.sk-toggleable__label-arrow:before {content: \"▾\";}#sk-container-id-5 div.sk-estimator input.sk-toggleable__control:checked~label.sk-toggleable__label {background-color: #d4ebff;}#sk-container-id-5 div.sk-label input.sk-toggleable__control:checked~label.sk-toggleable__label {background-color: #d4ebff;}#sk-container-id-5 input.sk-hidden--visually {border: 0;clip: rect(1px 1px 1px 1px);clip: rect(1px, 1px, 1px, 1px);height: 1px;margin: -1px;overflow: hidden;padding: 0;position: absolute;width: 1px;}#sk-container-id-5 div.sk-estimator {font-family: monospace;background-color: #f0f8ff;border: 1px dotted black;border-radius: 0.25em;box-sizing: border-box;margin-bottom: 0.5em;}#sk-container-id-5 div.sk-estimator:hover {background-color: #d4ebff;}#sk-container-id-5 div.sk-parallel-item::after {content: \"\";width: 100%;border-bottom: 1px solid gray;flex-grow: 1;}#sk-container-id-5 div.sk-label:hover label.sk-toggleable__label {background-color: #d4ebff;}#sk-container-id-5 div.sk-serial::before {content: \"\";position: absolute;border-left: 1px solid gray;box-sizing: border-box;top: 0;bottom: 0;left: 50%;z-index: 0;}#sk-container-id-5 div.sk-serial {display: flex;flex-direction: column;align-items: center;background-color: white;padding-right: 0.2em;padding-left: 0.2em;position: relative;}#sk-container-id-5 div.sk-item {position: relative;z-index: 1;}#sk-container-id-5 div.sk-parallel {display: flex;align-items: stretch;justify-content: center;background-color: white;position: relative;}#sk-container-id-5 div.sk-item::before, #sk-container-id-5 div.sk-parallel-item::before {content: \"\";position: absolute;border-left: 1px solid gray;box-sizing: border-box;top: 0;bottom: 0;left: 50%;z-index: -1;}#sk-container-id-5 div.sk-parallel-item {display: flex;flex-direction: column;z-index: 1;position: relative;background-color: white;}#sk-container-id-5 div.sk-parallel-item:first-child::after {align-self: flex-end;width: 50%;}#sk-container-id-5 div.sk-parallel-item:last-child::after {align-self: flex-start;width: 50%;}#sk-container-id-5 div.sk-parallel-item:only-child::after {width: 0;}#sk-container-id-5 div.sk-dashed-wrapped {border: 1px dashed gray;margin: 0 0.4em 0.5em 0.4em;box-sizing: border-box;padding-bottom: 0.4em;background-color: white;}#sk-container-id-5 div.sk-label label {font-family: monospace;font-weight: bold;display: inline-block;line-height: 1.2em;}#sk-container-id-5 div.sk-label-container {text-align: center;}#sk-container-id-5 div.sk-container {/* jupyter's `normalize.less` sets `[hidden] { display: none; }` but bootstrap.min.css set `[hidden] { display: none !important; }` so we also need the `!important` here to be able to override the default hidden behavior on the sphinx rendered scikit-learn.org. See: https://github.com/scikit-learn/scikit-learn/issues/21755 */display: inline-block !important;position: relative;}#sk-container-id-5 div.sk-text-repr-fallback {display: none;}</style><div id=\"sk-container-id-5\" class=\"sk-top-container\"><div class=\"sk-text-repr-fallback\"><pre>LinearSVR(C=10.0, epsilon=1.0)</pre><b>In a Jupyter environment, please rerun this cell to show the HTML representation or trust the notebook. <br />On GitHub, the HTML representation is unable to render, please try loading this page with nbviewer.org.</b></div><div class=\"sk-container\" hidden><div class=\"sk-item\"><div class=\"sk-estimator sk-toggleable\"><input class=\"sk-toggleable__control sk-hidden--visually\" id=\"sk-estimator-id-5\" type=\"checkbox\" checked><label for=\"sk-estimator-id-5\" class=\"sk-toggleable__label sk-toggleable__label-arrow\">LinearSVR</label><div class=\"sk-toggleable__content\"><pre>LinearSVR(C=10.0, epsilon=1.0)</pre></div></div></div></div></div>"
      ],
      "text/plain": [
       "LinearSVR(C=10.0, epsilon=1.0)"
      ]
     },
     "execution_count": 127,
     "metadata": {},
     "output_type": "execute_result"
    }
   ],
   "source": [
    "# Get best hyper parameters out of gs_concrete\n",
    "best_params_concrete = gs_concrete.best_params_\n",
    "print(f\"Best parameters for Concrete: {best_params_concrete}\")\n",
    "best_params_sklearn = gs_sklearn.best_params_\n",
    "print(f\"Best parameters for Sklearn: {best_params_sklearn}\")\n",
    "\n",
    "# Train concrete and sklearn LinearSVR  with best hyper parameters\n",
    "concrete_rgs = ConcreteLinearSVR(**best_params_concrete)\n",
    "sklearn_rgs = SklearnLinearSVR(**best_params_sklearn)\n",
    "\n",
    "concrete_rgs.fit(diabetes_X_train, diabetes_y_train)\n",
    "sklearn_rgs.fit(diabetes_X_train, diabetes_y_train)"
   ]
  },
  {
   "cell_type": "code",
   "execution_count": 132,
   "id": "e532ef07",
   "metadata": {},
   "outputs": [
    {
     "name": "stdout",
     "output_type": "stream",
     "text": [
      "Generating a key for an 6-bit circuit\n",
      "Key generation time: 119.86 seconds\n",
      "Execution time: 24.4823 seconds per sample\n",
      "Execution time: 0.0000 seconds per sample\n",
      "Execution time: 0.0002 seconds per sample\n"
     ]
    }
   ],
   "source": [
    "# Compile the model using the training data\n",
    "circuit = concrete_rgs.compile(X_train)\n",
    "\n",
    "# Generate the key\n",
    "print(f\"Generating a key for an {circuit.graph.maximum_integer_bit_width()}-bit circuit\")\n",
    "\n",
    "time_begin = time.time()\n",
    "circuit.client.keygen(force=False)\n",
    "print(f\"Key generation time: {time.time() - time_begin:.2f} seconds\")\n",
    "\n",
    "# Now predict using the FHE-quantized model on the testing set\n",
    "time_begin = time.time()\n",
    "y_pred_fhe = concrete_rgs.predict(diabetes_X_test, execute_in_fhe=True)\n",
    "print(f\"Execution time: {(time.time() - time_begin) / len(X_test):.4f} seconds per sample\")\n",
    "\n",
    "# Now predict using the Sklearn model on the testing set\n",
    "time_begin = time.time()\n",
    "y_pred_sklearn = sklearn_rgs.predict(diabetes_X_test)\n",
    "print(f\"Execution time: {(time.time() - time_begin) / len(X_test):.4f} seconds per sample\")\n",
    "\n",
    "# Now predict using clear quantized Concrete-ML model on testing set\n",
    "time_begin = time.time()\n",
    "y_preds_quantized = concrete_rgs.predict(diabetes_X_test)\n",
    "print(f\"Execution time: {(time.time() - time_begin) / len(X_test):.4f} seconds per sample\")"
   ]
  },
  {
   "cell_type": "code",
   "execution_count": null,
   "id": "b7a23ae2",
   "metadata": {},
   "outputs": [],
   "source": [
    "# Print all MSE a string to explain\n",
    "from sklearn.metrics import accuracy_score\n",
    "\n",
    "mse_sklearn = mean_squared_error(diabetes_y_test, y_pred_sklearn)\n",
    "mse_clear = mean_squared_error(diabetes_y_test, y_preds_quantized)\n",
    "mse_fhe = mean_squared_error(diabetes_y_test, y_pred_fhe)\n",
    "\n",
    "print(\n",
    "    f\"Clear FP32 sklearn model MSE: {mse_sklearn:.3f}\\n\"\n",
    "    f\"Clear quantized model MSE: {mse_clear:.3f}\\n\"\n",
    "    f\"FHE model MSE: {mse_fhe:.3f}\"\n",
    ")\n",
    "\n",
    "# Measure the error of the FHE quantized model with respect to quantized clear Concrete-ML model\n",
    "concrete_score_difference = abs(mse_fhe - mse_clear) * 100 / mse_clear\n",
    "print(\n",
    "    \"\\nRelative difference between Concrete-ml (quantized clear) and Concrete-ml (FHE) scores:\",\n",
    "    f\"{concrete_score_difference:.2f}%\",\n",
    ")\n",
    "\n",
    "\n",
    "# Measure the error of the FHE quantized model with respect to the sklearn float model\n",
    "score_difference = abs(mse_fhe - mse_sklearn) * 100 / mse_sklearn\n",
    "print(\n",
    "    \"Relative difference between scikit-learn (clear) and Concrete-ml (FHE) scores:\",\n",
    "    f\"{score_difference:.2f}%\",\n",
    ")"
   ]
  },
  {
   "cell_type": "code",
   "execution_count": 131,
   "id": "140bce4d",
   "metadata": {},
   "outputs": [],
   "source": [
    "# We densify the space representation of the original X,\n",
    "# to better visualize the resulting step function in the following figure\n",
    "x_space = np.linspace(diabetes_X_test.min(), diabetes_X_test.max(), num=300)\n",
    "x_space = x_space[:, np.newaxis]\n",
    "y_pred_q_space = concrete_rgs.predict(x_space)"
   ]
  },
  {
   "cell_type": "code",
   "execution_count": null,
   "id": "e8315fd7",
   "metadata": {},
   "outputs": [],
   "source": [
    "plt.ioff()\n",
    "\n",
    "plt.clf()\n",
    "fig, ax = plt.subplots(1, figsize=(12, 8))\n",
    "fig.patch.set_facecolor(\"white\")\n",
    "ax.scatter(diabetes_X_train, diabetes_y_train, **train_plot_config)\n",
    "ax.scatter(diabetes_X_test, diabetes_y_test, **test_plot_config)\n",
    "ax.plot(diabetes_X_test, diabetes_y_pred_sklearn, **get_sklearn_plot_config(mse_sklearn))\n",
    "ax.plot(x_space, y_pred_q_space, **get_concrete_plot_config(mse_clear))\n",
    "ax.legend()\n",
    "display(fig)"
   ]
  }
 ],
 "metadata": {
  "kernelspec": {
   "display_name": "Python 3 (ipykernel)",
   "language": "python",
   "name": "python3"
  },
  "language_info": {
   "codemirror_mode": {
    "name": "ipython",
    "version": 3
   },
   "file_extension": ".py",
   "mimetype": "text/x-python",
   "name": "python",
   "nbconvert_exporter": "python",
   "pygments_lexer": "ipython3",
   "version": "3.8.10"
  }
 },
 "nbformat": 4,
 "nbformat_minor": 5
}
