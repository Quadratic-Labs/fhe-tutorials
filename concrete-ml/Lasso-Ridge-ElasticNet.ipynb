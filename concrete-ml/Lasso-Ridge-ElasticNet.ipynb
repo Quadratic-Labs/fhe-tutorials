{
 "cells": [
  {
   "attachments": {},
   "cell_type": "markdown",
   "metadata": {},
   "source": [
    "# Lasso in Concrete-ML\n",
    "\n",
    "this tutorial is going to show you how to use Lasso penalizing linear regression algorithm in Concrete-ml plus Ridge and \n",
    "Elastic-net \n",
    "\n",
    "**Concrete-ML** is an open-source, privacy-preserving, machine learning inference framework based on fully homomorphic encryption (FHE). It enables data scientists without any prior knowledge of cryptography to automatically turn machine learning models into their FHE equivalent, using familiar APIs from Scikit-learn and PyTorch. \n",
    "[documentation website](https://docs.zama.ai/concrete-ml)\n",
    "\n",
    "![Alt text](https://801304998-files.gitbook.io/~/files/v0/b/gitbook-x-prod.appspot.com/o/spaces%2F75MldzZY6YYabEQfXDIR%2Fuploads%2Fgit-blob-bd13f146460dd3096ed0021391be3e4790c18bef%2F3.png?alt=media)"
   ]
  },
  {
   "attachments": {},
   "cell_type": "markdown",
   "metadata": {},
   "source": [
    "### what is difference between scikit-learn and concrete-ml for creating a ML model?\n",
    "| Scikit-learn     | Concrete-ML   |\n",
    "|----------------- |---------------|\n",
    "| doesn't work on encrypted data             | works on encrypted data         |\n",
    " "
   ]
  },
  {
   "attachments": {},
   "cell_type": "markdown",
   "metadata": {},
   "source": [
    "### How can I apply the same model in sklearn in concrete-ml?\n",
    "1. preparing dataset \n",
    "2. fitting in to the model\n",
    "3. compiling the model on training set \n",
    "4. predict the encrypted data \n",
    "\n",
    "let's apply it on Lasso - linear regression penalizing model"
   ]
  },
  {
   "cell_type": "code",
   "execution_count": 3,
   "metadata": {},
   "outputs": [],
   "source": [
    "# importing the libraries\n",
    "from sklearn.datasets import make_regression # to create a regression dataset randomly\n",
    "from sklearn.model_selection import train_test_split\n",
    "\n",
    "from concrete.ml.sklearn import Lasso as ConcreteLasso"
   ]
  },
  {
   "attachments": {},
   "cell_type": "markdown",
   "metadata": {},
   "source": [
    "### 1. preparing the dataset"
   ]
  },
  {
   "cell_type": "code",
   "execution_count": null,
   "metadata": {},
   "outputs": [],
   "source": [
    "# creating a dataset using make_regression\n",
    "X, y = make_regression(\n",
    "    n_samples=200, n_features=1, n_targets=1, bias=5.0, noise=30.0, random_state=42\n",
    ")\n",
    "\n",
    "X_train, X_test, y_train, y_test = train_test_split(X, y, test_size=0.4, random_state=42)\n",
    "\n",
    "print(X[:10]) # let's see the first ten rows \n",
    "print(y[:10])"
   ]
  },
  {
   "attachments": {},
   "cell_type": "markdown",
   "metadata": {},
   "source": [
    "#### 2. fitting the Model\n",
    "here we only have one additional hyper-parameter than sklearn, which is *n_bits*(number of bits). for more information click [here](), and the *alpha* hyperparameter is for degree of penalizing large coefficients; the larger it gets, the more penalization."
   ]
  },
  {
   "cell_type": "code",
   "execution_count": null,
   "metadata": {},
   "outputs": [],
   "source": [
    "lasso = ConcreteLasso(n_bits=4, alpha=0.1)\n",
    "lasso.fit(X_train, y_train)"
   ]
  },
  {
   "attachments": {},
   "cell_type": "markdown",
   "metadata": {},
   "source": [
    "#### 3. compling the model on training data\n",
    "to predict on encrypted data we first we need to compile the model to its FHE(Fully Homorphoic Encrypted) equivalent. then we just need to keys to be generated for decrypting processed data for client."
   ]
  },
  {
   "cell_type": "code",
   "execution_count": null,
   "metadata": {},
   "outputs": [],
   "source": [
    "lasso_fhe = lasso.compile(X_train)\n",
    "\n",
    "# here we generate keys\n",
    "lasso_fhe.graph.maximum_integer_bit_width() # it's just a minor requirment for generating keys \n",
    "lasso_fhe.client.keygen(force=False) # this will create secret key and evaluation key\n"
   ]
  },
  {
   "attachments": {},
   "cell_type": "markdown",
   "metadata": {},
   "source": [
    "#### 4. predicting on encrypted data"
   ]
  },
  {
   "cell_type": "code",
   "execution_count": null,
   "metadata": {},
   "outputs": [],
   "source": [
    "# \"excute_in_fhe\" will encrypt data and then uses the model to predict on encrypted data.\n",
    "y_pred = lasso.predict(X_test, execute_in_fhe=True)\n",
    "print(y_pred[:10])"
   ]
  },
  {
   "attachments": {},
   "cell_type": "markdown",
   "metadata": {},
   "source": [
    "But on the client side, there's no model to use above parameter to encrypt data. \n",
    "instead we encrypt the client data and send it to server to \n",
    "be processed. for more information click [here](https://docs.zama.ai/concrete-ml/advanced-topics/client_server)\n",
    "![Alt-text](https://801304998-files.gitbook.io/~/files/v0/b/gitbook-x-prod.appspot.com/o/spaces%2F75MldzZY6YYabEQfXDIR%2Fuploads%2Fgit-blob-f0c968fefec32658440dbc5814e2082b579c6200%2Fconcretemlgraph3.jpg?alt=media)"
   ]
  },
  {
   "attachments": {},
   "cell_type": "markdown",
   "metadata": {},
   "source": [
    "Here now we create three penalizing models Lasso, Ridge, and ElasticNet. then, we compare\n",
    "the scoring resutls. since we have Lasso ready, then we go only for Ridge and ElasticNet. "
   ]
  },
  {
   "attachments": {},
   "cell_type": "markdown",
   "metadata": {},
   "source": [
    "### Ridge"
   ]
  },
  {
   "cell_type": "code",
   "execution_count": null,
   "metadata": {},
   "outputs": [],
   "source": [
    "from concrete.ml.sklearn import Ridge as ConcreteRidge\n",
    "# step one: preparing data, since we prepared data before we skip it. \n",
    "\n",
    "# step two: training model \n",
    "ridge = ConcreteRidge(n_bits=4, alpha=0.1)\n",
    "ridge.fit(X_train, y_train)\n",
    "\n",
    "# step three: compiling the model \n",
    "ridge_fhe = ridge.compile(X_train)\n",
    "ridge_fhe.graph.maximum_integer_bit_width()\n",
    "ridge_fhe.keygen(force=False)\n",
    "\n",
    "# step four: predicting on encrypted data\n",
    "y_pred_ridge = ridge.predict(X_test, execute_in_fhe=True)\n",
    "print(y_pred_ridge[:10])"
   ]
  },
  {
   "attachments": {},
   "cell_type": "markdown",
   "metadata": {},
   "source": [
    "### ElasticNet"
   ]
  },
  {
   "cell_type": "code",
   "execution_count": null,
   "metadata": {},
   "outputs": [],
   "source": [
    "from concrete.ml.sklearn import ElasticNet as ConcreteElasticNet\n",
    "\n",
    "# this time without commenting the steps \n",
    "\n",
    "elasticNet = ConcreteElasticNet(n_bits=4, alpha=0.1)\n",
    "elasticNet.fit(X_train, y_train)\n",
    "\n",
    "elasticNet_fhe = elasticNet.compile(X_train)\n",
    "elasticNet_fhe.graph.maximum_integer_bit_width()\n",
    "elasticNet_fhe.keygen(force=False)\n",
    "\n",
    "y_pred_elastic = elasticNet.predict(X_test, execute_in_fhe=True)\n",
    "print(y_pred_elastic[:10])"
   ]
  },
  {
   "attachments": {},
   "cell_type": "markdown",
   "metadata": {},
   "source": [
    "### Comparing the scoring results"
   ]
  },
  {
   "cell_type": "code",
   "execution_count": null,
   "metadata": {},
   "outputs": [],
   "source": [
    "from sklearn.metrics import r2_score as r2 # it is our scoring function which R-squared\n",
    "\n",
    "print(f\"Lasso accuracy: {r2(y_test, y_pred)}\") # I hope you remember we didn't give the y_pred lasso suffix\n",
    "print(f\"Ridge Accuracy: {r2(y_test, y_pred_ridge)}\")\n",
    "print(f\"ElasticNet Accuracy: {r2(y_test, y_pred_elastic)}\")"
   ]
  }
 ],
 "metadata": {
  "kernelspec": {
   "display_name": "venv",
   "language": "python",
   "name": "python3"
  },
  "language_info": {
   "codemirror_mode": {
    "name": "ipython",
    "version": 3
   },
   "file_extension": ".py",
   "mimetype": "text/x-python",
   "name": "python",
   "nbconvert_exporter": "python",
   "pygments_lexer": "ipython3",
   "version": "3.9.16"
  },
  "orig_nbformat": 4,
  "vscode": {
   "interpreter": {
    "hash": "4ab4f97b57daddad7b19255a70f337d8935993c15e5265984f294aab4888e93a"
   }
  }
 },
 "nbformat": 4,
 "nbformat_minor": 2
}
